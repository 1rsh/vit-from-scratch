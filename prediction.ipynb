{
 "cells": [
  {
   "cell_type": "code",
   "execution_count": 9,
   "id": "b61afec6",
   "metadata": {},
   "outputs": [],
   "source": [
    "import torch\n",
    "from torch import nn\n",
    "import torchvision\n",
    "import matplotlib.pyplot as plt\n",
    "import random\n",
    "import glob"
   ]
  },
  {
   "cell_type": "code",
   "execution_count": 2,
   "id": "91b3dcda",
   "metadata": {},
   "outputs": [
    {
     "name": "stdout",
     "output_type": "stream",
     "text": [
      "Device: mps!\n"
     ]
    }
   ],
   "source": [
    "device = \"mps\" if torch.backends.mps.is_available() else \"cpu\"\n",
    "\n",
    "print(f\"Device: {device}!\")"
   ]
  },
  {
   "cell_type": "code",
   "execution_count": 4,
   "id": "67b3fb7b",
   "metadata": {},
   "outputs": [],
   "source": [
    "num_classes = 46\n",
    "patch_size = 4\n",
    "img_size = 32\n",
    "in_channels = 1\n",
    "num_heads = 8\n",
    "dropout = 0.001\n",
    "hidden_dim = 1024\n",
    "activation = \"gelu\"\n",
    "num_encoders = 4\n",
    "embed_dim = (patch_size ** 2) * in_channels # 16\n",
    "num_patches = (img_size // patch_size) ** 2 # 64"
   ]
  },
  {
   "cell_type": "code",
   "execution_count": 5,
   "id": "6681d098",
   "metadata": {},
   "outputs": [
    {
     "name": "stderr",
     "output_type": "stream",
     "text": [
      "/Library/Frameworks/Python.framework/Versions/3.9/lib/python3.9/site-packages/torch/nn/modules/transformer.py:282: UserWarning: enable_nested_tensor is True, but self.use_nested_tensor is False because encoder_layer.norm_first was True\n",
      "  warnings.warn(f\"enable_nested_tensor is True, but self.use_nested_tensor is False because {why_not_sparsity_fast_path}\")\n"
     ]
    },
    {
     "data": {
      "text/plain": [
       "VisionTransformer(\n",
       "  (embeddings_block): PatchEmbedding(\n",
       "    (patcher): Sequential(\n",
       "      (0): Conv2d(1, 16, kernel_size=(4, 4), stride=(4, 4))\n",
       "      (1): Flatten(start_dim=2, end_dim=-1)\n",
       "    )\n",
       "    (dropout): Dropout(p=0.001, inplace=False)\n",
       "  )\n",
       "  (encoder_blocks): TransformerEncoder(\n",
       "    (layers): ModuleList(\n",
       "      (0-3): 4 x TransformerEncoderLayer(\n",
       "        (self_attn): MultiheadAttention(\n",
       "          (out_proj): NonDynamicallyQuantizableLinear(in_features=16, out_features=16, bias=True)\n",
       "        )\n",
       "        (linear1): Linear(in_features=16, out_features=2048, bias=True)\n",
       "        (dropout): Dropout(p=0.001, inplace=False)\n",
       "        (linear2): Linear(in_features=2048, out_features=16, bias=True)\n",
       "        (norm1): LayerNorm((16,), eps=1e-05, elementwise_affine=True)\n",
       "        (norm2): LayerNorm((16,), eps=1e-05, elementwise_affine=True)\n",
       "        (dropout1): Dropout(p=0.001, inplace=False)\n",
       "        (dropout2): Dropout(p=0.001, inplace=False)\n",
       "      )\n",
       "    )\n",
       "  )\n",
       "  (mlp_head): Sequential(\n",
       "    (0): LayerNorm((16,), eps=1e-05, elementwise_affine=True)\n",
       "    (1): Linear(in_features=16, out_features=46, bias=True)\n",
       "  )\n",
       ")"
      ]
     },
     "execution_count": 5,
     "metadata": {},
     "output_type": "execute_result"
    }
   ],
   "source": [
    "from vision_transformer import VisionTransformer\n",
    "\n",
    "model = VisionTransformer(num_patches, img_size, num_classes, patch_size, embed_dim, num_encoders, num_heads, hidden_dim, dropout, activation, in_channels).to(device)\n",
    "model.load_state_dict(torch.load(\"models/hindi-character-recognition-40epochs\"))\n",
    "model.eval()"
   ]
  },
  {
   "cell_type": "code",
   "execution_count": 89,
   "id": "07a75ba3",
   "metadata": {},
   "outputs": [],
   "source": [
    "image_path = \"data/test/character_2_kha\"\n",
    "\n",
    "image_path_list= glob.glob(f\"{image_path}/*.png\")\n",
    "\n",
    "random_image_path = random.choice(image_path_list)"
   ]
  },
  {
   "cell_type": "code",
   "execution_count": 90,
   "id": "3eb36192",
   "metadata": {},
   "outputs": [
    {
     "data": {
      "image/png": "[encoded data removed]",
      "text/plain": [
       "<Figure size 640x480 with 1 Axes>"
      ]
     },
     "metadata": {},
     "output_type": "display_data"
    }
   ],
   "source": [
    "input_img = torchvision.io.read_image(random_image_path)\n",
    "\n",
    "plt.imshow(input_img.permute(1, 2, 0), cmap = \"gray\")\n",
    "\n",
    "input_img = input_img.float().to(device).unsqueeze(0) # unsqueezing to account for batch size"
   ]
  },
  {
   "cell_type": "code",
   "execution_count": 91,
   "id": "7c3cd1e3",
   "metadata": {},
   "outputs": [],
   "source": [
    "with torch.no_grad():\n",
    "    pred = model(input_img)\n",
    "    \n",
    "pred = pred.detach().cpu()"
   ]
  },
  {
   "cell_type": "code",
   "execution_count": 92,
   "id": "7b8069f0",
   "metadata": {},
   "outputs": [],
   "source": [
    "pred_label = torch.argmax(pred, dim = 1)"
   ]
  },
  {
   "cell_type": "code",
   "execution_count": 93,
   "id": "062a3a5c",
   "metadata": {},
   "outputs": [
    {
     "data": {
      "text/plain": [
       "tensor([43])"
      ]
     },
     "execution_count": 93,
     "metadata": {},
     "output_type": "execute_result"
    }
   ],
   "source": [
    "pred_label"
   ]
  },
  {
   "cell_type": "code",
   "execution_count": null,
   "id": "a74b3789",
   "metadata": {},
   "outputs": [],
   "source": [
    "label_to_digit = {\n",
    "    43 : \"क\",\n",
    "}"
   ]
  }
 ],
 "metadata": {
  "kernelspec": {
   "display_name": "Python 3 (ipykernel)",
   "language": "python",
   "name": "python3"
  },
  "language_info": {
   "codemirror_mode": {
    "name": "ipython",
    "version": 3
   },
   "file_extension": ".py",
   "mimetype": "text/x-python",
   "name": "python",
   "nbconvert_exporter": "python",
   "pygments_lexer": "ipython3",
   "version": "3.9.9"
  }
 },
 "nbformat": 4,
 "nbformat_minor": 5
}
